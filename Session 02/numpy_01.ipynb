{
 "cells": [
  {
   "cell_type": "markdown",
   "metadata": {},
   "source": [
    "<div style=\"direction: rtl; text-align: right;\">\n",
    "\n",
    "گزارش سود:\n",
    "\n",
    "تصور کنید که یک تحلیلگر داده در یک شرکت فناوری هستید و اطلاعات درآمد سه ماهه پنج سال گذشته را دریافت کرده اید. وظیفه شما محاسبه میانگین درآمد سالانه برای هر سال و سپس یافتن سالِ با بالاترین میانگین درآمد است.\n",
    "</div>\n"
   ]
  },
  {
   "cell_type": "code",
   "execution_count": 27,
   "metadata": {},
   "outputs": [],
   "source": [
    "import numpy as np\n",
    "\n",
    "# Simulate earnings data (5 years, 4 quarters each)\n",
    "earnings_data = np.array([[1000, 1200, 1500, 1400],\n",
    "                         [1100, 1300, 1550, 1450],\n",
    "                         [1050, 1250, 1580, 1480],\n",
    "                         [1120, 1320, 1510, 1420],\n",
    "                         [1150, 1275, 1600, 1465]])\n",
    "\n",
    "# Calculate annual averages\n",
    "annual_averages = np.mean(earnings_data, axis=1)\n",
    "\n",
    "# Find the year with the highest average earnings\n",
    "best_year = np.argmax(annual_averages) + 1  # +1 to account for 0-based indexing"
   ]
  }
 ],
 "metadata": {
  "kernelspec": {
   "display_name": "Python 3",
   "language": "python",
   "name": "python3"
  },
  "language_info": {
   "codemirror_mode": {
    "name": "ipython",
    "version": 3
   },
   "file_extension": ".py",
   "mimetype": "text/x-python",
   "name": "python",
   "nbconvert_exporter": "python",
   "pygments_lexer": "ipython3",
   "version": "3.9.17"
  },
  "orig_nbformat": 4
 },
 "nbformat": 4,
 "nbformat_minor": 2
}
