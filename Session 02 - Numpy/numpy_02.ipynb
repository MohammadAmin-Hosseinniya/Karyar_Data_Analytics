{
 "cells": [
  {
   "cell_type": "markdown",
   "metadata": {},
   "source": [
    "<div style=\"direction: rtl; text-align: right;\">\n",
    "شما یک آماردان ورزشی هستید که وظیفه تحلیل عملکرد یک تیم بسکتبال را دارید. با توجه به آمار بازیکنان، هدف شما این است که بازیکنی را پیدا کنید که بیشترین امتیاز، پاس، و ریباند را داشته باشد و عملکرد آنها را در آخرین بازی شناسایی کنید.\n",
    "</div>\n"
   ]
  },
  {
   "cell_type": "code",
   "execution_count": 7,
   "metadata": {},
   "outputs": [],
   "source": [
    "import numpy as np\n",
    "\n",
    "# Simulate player statistics (5 players, 4 games)\n",
    "player_stats = np.array([[20, 8, 12, 25],\n",
    "                        [18, 6, 14, 22],\n",
    "                        [15, 10, 10, 20],\n",
    "                        [22, 4, 8, 28],\n",
    "                        [25, 5, 9, 30]])\n",
    "\n",
    "# Calculate total points, assists, and rebounds for each player\n",
    "total_stats = np.sum(player_stats, axis=1)\n",
    "\n",
    "# Find the player with the highest total stats\n",
    "best_player = np.argmax(total_stats) + 1  # +1 to account for 0-based indexing\n",
    "\n",
    "# Identify the performance of the best player in the last game\n",
    "best_player_last_games_stats = player_stats[best_player - 1]  # -1 to access the correct player\n"
   ]
  },
  {
   "cell_type": "code",
   "execution_count": 6,
   "metadata": {},
   "outputs": [
    {
     "data": {
      "text/plain": [
       "4"
      ]
     },
     "execution_count": 6,
     "metadata": {},
     "output_type": "execute_result"
    }
   ],
   "source": [
    "# total_stats\n",
    "np.argmax(total_stats)"
   ]
  },
  {
   "cell_type": "code",
   "execution_count": 5,
   "metadata": {},
   "outputs": [
    {
     "data": {
      "text/plain": [
       "5"
      ]
     },
     "execution_count": 5,
     "metadata": {},
     "output_type": "execute_result"
    }
   ],
   "source": [
    "best_player"
   ]
  },
  {
   "cell_type": "code",
   "execution_count": 8,
   "metadata": {},
   "outputs": [
    {
     "data": {
      "text/plain": [
       "array([25,  5,  9, 30])"
      ]
     },
     "execution_count": 8,
     "metadata": {},
     "output_type": "execute_result"
    }
   ],
   "source": [
    "best_player_last_games_stats"
   ]
  }
 ],
 "metadata": {
  "kernelspec": {
   "display_name": "Python 3",
   "language": "python",
   "name": "python3"
  },
  "language_info": {
   "codemirror_mode": {
    "name": "ipython",
    "version": 3
   },
   "file_extension": ".py",
   "mimetype": "text/x-python",
   "name": "python",
   "nbconvert_exporter": "python",
   "pygments_lexer": "ipython3",
   "version": "3.9.17"
  },
  "orig_nbformat": 4
 },
 "nbformat": 4,
 "nbformat_minor": 2
}
